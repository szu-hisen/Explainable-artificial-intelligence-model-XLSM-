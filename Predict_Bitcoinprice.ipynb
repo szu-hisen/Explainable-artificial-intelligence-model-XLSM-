{
 "cells": [
  {
   "cell_type": "code",
   "execution_count": 28,
   "id": "aee5b00a",
   "metadata": {},
   "outputs": [],
   "source": [
    "import numpy as np\n",
    "import pandas as pd\n",
    "import mindspore.context as context\n",
    "import mindspore.nn as nn\n",
    "from mindspore import Tensor\n",
    "from mindspore.train import Model\n",
    "from mindspore.nn.loss.loss import MSELoss\n",
    "from mindspore.common.initializer import Normal\n",
    "from mindspore.ops import operations as P\n",
    "import mindspore.dataset as ds\n",
    "from mindspore.dataset import GeneratorDataset\n",
    "from mindspore.dataset.transforms import TypeCast\n",
    "import mindspore.common.dtype as mstype\n"
   ]
  },
  {
   "cell_type": "code",
   "execution_count": 15,
   "id": "2ef66165",
   "metadata": {},
   "outputs": [],
   "source": [
    "# 准备数据\n",
    "df = pd.read_csv(\"./data/BTC.csv\")\n",
    "X = df[[\"Open\", \"High\", \"Low\", \"Volume\"]].values  # 特征数据\n",
    "y = df[\"Close\"].values  # 目标价格数据"
   ]
  },
  {
   "cell_type": "code",
   "execution_count": 16,
   "id": "2956e730",
   "metadata": {},
   "outputs": [],
   "source": [
    "# 划分数据集为训练集和测试集\n",
    "split_ratio = 0.8\n",
    "split_index = int(len(X) * split_ratio)\n",
    "X_train, X_test = X[:split_index], X[split_index:]\n",
    "y_train, y_test = y[:split_index], y[split_index:]"
   ]
  },
  {
   "cell_type": "code",
   "execution_count": 23,
   "id": "d80aad58",
   "metadata": {},
   "outputs": [],
   "source": [
    "# 创建MindSpore数据集\n",
    "batch_size = 32\n",
    "\n",
    "def data_generator(X, y):\n",
    "    for features, target in zip(X, y):\n",
    "        yield (features, target)\n",
    "\n",
    "train_dataset = GeneratorDataset(data_generator(X_train, y_train), column_names=[\"features\", \"target\"])\n",
    "test_dataset = GeneratorDataset(data_generator(X_test, y_test), column_names=[\"features\", \"target\"])\n",
    "\n",
    "# 对数据进行类型转换\n",
    "train_dataset = train_dataset.map(operations=TypeCast(mstype.float32))\n",
    "test_dataset = test_dataset.map(operations=TypeCast(mstype.float32))\n",
    "\n",
    "# 设置批处理大小并删除余数\n",
    "train_dataset = train_dataset.batch(batch_size, drop_remainder=True)\n",
    "test_dataset = test_dataset.batch(batch_size, drop_remainder=True)"
   ]
  },
  {
   "cell_type": "code",
   "execution_count": 24,
   "id": "9f4841ae",
   "metadata": {},
   "outputs": [],
   "source": [
    "# 构建神经网络模型\n",
    "class BitcoinPricePredictNet(nn.Cell):\n",
    "    def __init__(self):\n",
    "        super(BitcoinPricePredictNet, self).__init__()\n",
    "        self.fc = nn.Dense(4, 1, Normal(0.02), Normal(0.02))\n",
    "\n",
    "    def construct(self, x):\n",
    "        x = self.fc(x)\n",
    "        return x"
   ]
  },
  {
   "cell_type": "code",
   "execution_count": 25,
   "id": "3674f5ea",
   "metadata": {},
   "outputs": [],
   "source": [
    "# 定义损失函数和优化器\n",
    "net = BitcoinPricePredictNet()\n",
    "criterion = nn.loss.MSELoss()\n",
    "optimizer = nn.Momentum(params=net.trainable_params(), learning_rate=0.001, momentum=0.9)\n",
    "model = Model(net, optimizer)"
   ]
  },
  {
   "cell_type": "code",
   "execution_count": 35,
   "id": "b3fdf1ec",
   "metadata": {},
   "outputs": [
    {
     "ename": "SyntaxError",
     "evalue": "positional argument follows keyword argument (1861079959.py, line 2)",
     "output_type": "error",
     "traceback": [
      "\u001B[0;36m  Cell \u001B[0;32mIn[35], line 2\u001B[0;36m\u001B[0m\n\u001B[0;31m    model.train(epoch=100, train_dataset)\u001B[0m\n\u001B[0m                           ^\u001B[0m\n\u001B[0;31mSyntaxError\u001B[0m\u001B[0;31m:\u001B[0m positional argument follows keyword argument\n"
     ]
    }
   ],
   "source": [
    "model.train(epochs=50, train_dataset=X, train_labels=y)\n",
    "predicted = net(X)"
   ]
  }
 ],
 "metadata": {
  "kernelspec": {
   "display_name": "Python 3 (ipykernel)",
   "language": "python",
   "name": "python3"
  },
  "language_info": {
   "codemirror_mode": {
    "name": "ipython",
    "version": 3
   },
   "file_extension": ".py",
   "mimetype": "text/x-python",
   "name": "python",
   "nbconvert_exporter": "python",
   "pygments_lexer": "ipython3",
   "version": "3.8.17"
  }
 },
 "nbformat": 4,
 "nbformat_minor": 5
}
